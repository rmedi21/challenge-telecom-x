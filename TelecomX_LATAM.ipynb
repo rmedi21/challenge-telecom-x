{
  "nbformat": 4,
  "nbformat_minor": 0,
  "metadata": {
    "colab": {
      "provenance": [],
      "include_colab_link": true
    },
    "kernelspec": {
      "name": "python3",
      "display_name": "Python 3"
    },
    "language_info": {
      "name": "python"
    }
  },
  "cells": [
    {
      "cell_type": "markdown",
      "metadata": {
        "id": "view-in-github",
        "colab_type": "text"
      },
      "source": [
        "<a href=\"https://colab.research.google.com/github/rmedi21/challenge-telecom-x/blob/main/TelecomX_LATAM.ipynb\" target=\"_parent\"><img src=\"https://colab.research.google.com/assets/colab-badge.svg\" alt=\"Open In Colab\"/></a>"
      ]
    },
    {
      "cell_type": "markdown",
      "source": [
        "#📌 Extracción"
      ],
      "metadata": {
        "id": "4foVEKhrlqcH"
      }
    },
    {
      "cell_type": "code",
      "source": [
        "import pandas as pd\n",
        "import requests\n",
        "import json"
      ],
      "metadata": {
        "id": "fL389-E8WIBL"
      },
      "execution_count": 26,
      "outputs": []
    },
    {
      "cell_type": "code",
      "source": [
        "url = \"https://raw.githubusercontent.com/ingridcristh/challenge2-data-science-LATAM/refs/heads/main/TelecomX_Data.json\"\n",
        "\n",
        "response = requests.get(url)\n",
        "\n",
        "if (response.status_code == 200):\n",
        "    data = response.json()\n",
        "    df = pd.json_normalize(data)\n",
        "else:\n",
        "    print('Error al obtener pagina.')"
      ],
      "metadata": {
        "id": "1--uPM88l7JH"
      },
      "execution_count": 42,
      "outputs": []
    },
    {
      "cell_type": "code",
      "source": [],
      "metadata": {
        "id": "CyQQsHP0dHcJ",
        "outputId": "1e779c31-a39a-49f5-b9af-d5421a9a6cb0",
        "colab": {
          "base_uri": "https://localhost:8080/",
          "height": 743
        }
      },
      "execution_count": 44,
      "outputs": [
        {
          "output_type": "execute_result",
          "data": {
            "text/plain": [
              "customerID                     0002-ORFBO\n",
              "Churn                                  No\n",
              "customer.gender                    Female\n",
              "customer.SeniorCitizen                  0\n",
              "customer.Partner                      Yes\n",
              "customer.Dependents                   Yes\n",
              "customer.tenure                         9\n",
              "phone.PhoneService                    Yes\n",
              "phone.MultipleLines                    No\n",
              "internet.InternetService              DSL\n",
              "internet.OnlineSecurity                No\n",
              "internet.OnlineBackup                 Yes\n",
              "internet.DeviceProtection              No\n",
              "internet.TechSupport                  Yes\n",
              "internet.StreamingTV                  Yes\n",
              "internet.StreamingMovies               No\n",
              "account.Contract                 One year\n",
              "account.PaperlessBilling              Yes\n",
              "account.PaymentMethod        Mailed check\n",
              "account.Charges.Monthly              65.6\n",
              "account.Charges.Total               593.3\n",
              "Name: 0, dtype: object"
            ],
            "text/html": [
              "<div>\n",
              "<style scoped>\n",
              "    .dataframe tbody tr th:only-of-type {\n",
              "        vertical-align: middle;\n",
              "    }\n",
              "\n",
              "    .dataframe tbody tr th {\n",
              "        vertical-align: top;\n",
              "    }\n",
              "\n",
              "    .dataframe thead th {\n",
              "        text-align: right;\n",
              "    }\n",
              "</style>\n",
              "<table border=\"1\" class=\"dataframe\">\n",
              "  <thead>\n",
              "    <tr style=\"text-align: right;\">\n",
              "      <th></th>\n",
              "      <th>0</th>\n",
              "    </tr>\n",
              "  </thead>\n",
              "  <tbody>\n",
              "    <tr>\n",
              "      <th>customerID</th>\n",
              "      <td>0002-ORFBO</td>\n",
              "    </tr>\n",
              "    <tr>\n",
              "      <th>Churn</th>\n",
              "      <td>No</td>\n",
              "    </tr>\n",
              "    <tr>\n",
              "      <th>customer.gender</th>\n",
              "      <td>Female</td>\n",
              "    </tr>\n",
              "    <tr>\n",
              "      <th>customer.SeniorCitizen</th>\n",
              "      <td>0</td>\n",
              "    </tr>\n",
              "    <tr>\n",
              "      <th>customer.Partner</th>\n",
              "      <td>Yes</td>\n",
              "    </tr>\n",
              "    <tr>\n",
              "      <th>customer.Dependents</th>\n",
              "      <td>Yes</td>\n",
              "    </tr>\n",
              "    <tr>\n",
              "      <th>customer.tenure</th>\n",
              "      <td>9</td>\n",
              "    </tr>\n",
              "    <tr>\n",
              "      <th>phone.PhoneService</th>\n",
              "      <td>Yes</td>\n",
              "    </tr>\n",
              "    <tr>\n",
              "      <th>phone.MultipleLines</th>\n",
              "      <td>No</td>\n",
              "    </tr>\n",
              "    <tr>\n",
              "      <th>internet.InternetService</th>\n",
              "      <td>DSL</td>\n",
              "    </tr>\n",
              "    <tr>\n",
              "      <th>internet.OnlineSecurity</th>\n",
              "      <td>No</td>\n",
              "    </tr>\n",
              "    <tr>\n",
              "      <th>internet.OnlineBackup</th>\n",
              "      <td>Yes</td>\n",
              "    </tr>\n",
              "    <tr>\n",
              "      <th>internet.DeviceProtection</th>\n",
              "      <td>No</td>\n",
              "    </tr>\n",
              "    <tr>\n",
              "      <th>internet.TechSupport</th>\n",
              "      <td>Yes</td>\n",
              "    </tr>\n",
              "    <tr>\n",
              "      <th>internet.StreamingTV</th>\n",
              "      <td>Yes</td>\n",
              "    </tr>\n",
              "    <tr>\n",
              "      <th>internet.StreamingMovies</th>\n",
              "      <td>No</td>\n",
              "    </tr>\n",
              "    <tr>\n",
              "      <th>account.Contract</th>\n",
              "      <td>One year</td>\n",
              "    </tr>\n",
              "    <tr>\n",
              "      <th>account.PaperlessBilling</th>\n",
              "      <td>Yes</td>\n",
              "    </tr>\n",
              "    <tr>\n",
              "      <th>account.PaymentMethod</th>\n",
              "      <td>Mailed check</td>\n",
              "    </tr>\n",
              "    <tr>\n",
              "      <th>account.Charges.Monthly</th>\n",
              "      <td>65.6</td>\n",
              "    </tr>\n",
              "    <tr>\n",
              "      <th>account.Charges.Total</th>\n",
              "      <td>593.3</td>\n",
              "    </tr>\n",
              "  </tbody>\n",
              "</table>\n",
              "</div><br><label><b>dtype:</b> object</label>"
            ]
          },
          "metadata": {},
          "execution_count": 44
        }
      ]
    },
    {
      "cell_type": "markdown",
      "source": [
        "#🔧 Transformación"
      ],
      "metadata": {
        "id": "1lSZP8zmmGZu"
      }
    },
    {
      "cell_type": "code",
      "source": [],
      "metadata": {
        "id": "bsm-WTLjmHvt"
      },
      "execution_count": null,
      "outputs": []
    },
    {
      "cell_type": "markdown",
      "source": [
        "#📊 Carga y análisis"
      ],
      "metadata": {
        "id": "6XnTC2NTmMRL"
      }
    },
    {
      "cell_type": "code",
      "source": [],
      "metadata": {
        "id": "1jgUnLqTmPdd"
      },
      "execution_count": null,
      "outputs": []
    },
    {
      "cell_type": "markdown",
      "source": [
        "#📄Informe final"
      ],
      "metadata": {
        "id": "v-WzfSvTmaw9"
      }
    },
    {
      "cell_type": "code",
      "source": [],
      "metadata": {
        "id": "XMTac0YJmeK9"
      },
      "execution_count": null,
      "outputs": []
    }
  ]
}